{
 "cells": [
  {
   "cell_type": "code",
   "execution_count": 2,
   "metadata": {},
   "outputs": [],
   "source": [
    "import ollama"
   ]
  },
  {
   "cell_type": "markdown",
   "metadata": {},
   "source": [
    "🎯 Summary of Roles\n",
    "Role\tPurpose\n",
    "system\tSets rules/personality of AI (e.g., \"You are a coding assistant.\")\n",
    "user\tRepresents the human input (e.g., \"How do I reverse a list in Python?\")\n",
    "assistant\tRepresents the AI's response (e.g., \"You can use list[::-1] to reverse a list.\")"
   ]
  },
  {
   "cell_type": "code",
   "execution_count": 9,
   "metadata": {},
   "outputs": [
    {
     "name": "stdout",
     "output_type": "stream",
     "text": [
      " I'm just an AI assistant and my purpose is to assist users with their queries. Is there anything specific you would like to know or talk about?\n"
     ]
    }
   ],
   "source": [
    "# def generate_text(prompt):\n",
    "response=ollama.chat(model=\"llama2\",messages=[\n",
    "    {'role':'assistant','content':'Hi, How are you?'}\n",
    "            ])\n",
    "print(response['message']['content'])\n",
    "\n"
   ]
  },
  {
   "cell_type": "code",
   "execution_count": 8,
   "metadata": {},
   "outputs": [
    {
     "name": "stdout",
     "output_type": "stream",
     "text": [
      "Assistant: The capital of France is Paris.\n",
      "Assistant: The Eiffel Tower was designed by Gustave Eiffel and his engineering company. The tower was built for the 1889 World's Fair in Paris, France, and it was officially opened on March 31, 1889.\n"
     ]
    }
   ],
   "source": [
    "import ollama\n",
    "\n",
    "messages = [\n",
    "    {'role': 'system', 'content': 'You are a knowledgeable AI that provides clear and concise answers.'},\n",
    "    {'role': 'user', 'content': 'What is the capital of France?'}\n",
    "]\n",
    "\n",
    "response = ollama.chat(model='llama2', messages=messages)\n",
    "\n",
    "# Store and display the AI's response\n",
    "messages.append({'role': 'assistant', 'content': response['message']['content']})\n",
    "print(\"Assistant:\", response['message']['content'])\n",
    "\n",
    "# User asks another question\n",
    "messages.append({'role': 'user', 'content': 'Who designed the Eiffel Tower?'})\n",
    "\n",
    "response = ollama.chat(model='llama2', messages=messages)\n",
    "messages.append({'role': 'assistant', 'content': response['message']['content']})\n",
    "print(\"Assistant:\", response['message']['content'])\n"
   ]
  }
 ],
 "metadata": {
  "kernelspec": {
   "display_name": "Python 3",
   "language": "python",
   "name": "python3"
  },
  "language_info": {
   "codemirror_mode": {
    "name": "ipython",
    "version": 3
   },
   "file_extension": ".py",
   "mimetype": "text/x-python",
   "name": "python",
   "nbconvert_exporter": "python",
   "pygments_lexer": "ipython3",
   "version": "3.10.16"
  }
 },
 "nbformat": 4,
 "nbformat_minor": 2
}
